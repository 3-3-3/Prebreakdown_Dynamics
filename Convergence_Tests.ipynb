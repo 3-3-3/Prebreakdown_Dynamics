{
 "cells": [
  {
   "cell_type": "code",
   "execution_count": null,
   "id": "8f323e70-62ff-49ea-b1e0-1412f3f7e43f",
   "metadata": {},
   "outputs": [],
   "source": [
    "%load_ext autoreload\n",
    "%autoreload 1"
   ]
  },
  {
   "cell_type": "code",
   "execution_count": null,
   "id": "7e04f27f",
   "metadata": {},
   "outputs": [],
   "source": [
    "import numpy as np\n",
    "import matplotlib.pyplot as plt\n",
    "%aimport Prebreakdown\n",
    "import Util\n",
    "from scipy.special import j0, jn_zeros"
   ]
  },
  {
   "cell_type": "code",
   "execution_count": null,
   "id": "058ac878",
   "metadata": {},
   "outputs": [],
   "source": [
    "r_max = 2e-3; z_max = 1e-3\n",
    "\n",
    "V_bottom = Util.bessel_boundary(-500,1e-3)\n",
    "V_top = Util.bessel_boundary(500,1e-3)\n",
    "n_bottom = Util.gaussian_boundary(1e19,1e-4 / (np.sqrt(2*np.log(2)))) #HWHM of 1e-4"
   ]
  },
  {
   "cell_type": "code",
   "execution_count": null,
   "id": "bdbc8e1b",
   "metadata": {},
   "outputs": [],
   "source": [
    "N_z = 100; N_r = 100\n",
    "Dz = z_max / N_z; Dr = r_max / N_r"
   ]
  },
  {
   "cell_type": "code",
   "execution_count": null,
   "id": "722998d1",
   "metadata": {},
   "outputs": [],
   "source": [
    "Dz"
   ]
  },
  {
   "cell_type": "code",
   "execution_count": null,
   "id": "33523fc5",
   "metadata": {},
   "outputs": [],
   "source": [
    "r = np.linspace(0,r_max,N_r)\n",
    "\n",
    "fig, ax1 = plt.subplots(figsize=(6.5,5))\n",
    "\n",
    "ax2 = ax1.twinx()\n",
    "\n",
    "line1, = ax1.plot(r*1e3, np.array([V_top(r_i,0) for r_i in r]), color='red', label=r'$V_{anode}$')\n",
    "line2, = ax1.plot(r*1e3, np.array([V_bottom(r_i,0) for r_i in r]), color='blue',label=r'$V_{cathode}$')\n",
    "line3, = ax2.plot(r*1e3, np.array([n_bottom(r_i,0) for r_i in r]), color='black',label=r'$\\Delta n_{cathode}$')\n",
    "\n",
    "ax1.tick_params(axis='both', which='major', labelsize=10)\n",
    "ax2.tick_params(axis='both', which='major', labelsize=10)\n",
    "\n",
    "ax1.legend([line1,line2,line3],[r'$V_{anode}$',r'$V_{cathode}$',r'$\\Delta n_{cathode}$'],fontsize=10)\n",
    "\n",
    "ax1.set_ylabel(r'Electric Potential $(V)$',fontsize=10)\n",
    "ax2.set_ylabel(r'$\\frac{\\Delta n}{\\Delta t}$  $(m^{-3})$',fontsize=10)\n",
    "ax1.set_xlabel(r'$r$ $(mm)$',fontsize=10)\n",
    "\n",
    "fig.savefig('Boundary_Conditions.jpg')"
   ]
  },
  {
   "cell_type": "code",
   "execution_count": null,
   "id": "3038caf3",
   "metadata": {},
   "outputs": [],
   "source": [
    "p = Prebreakdown.Prebreakdown(N_z,N_r,Dz,Dr,dt=1e-16,V_top=V_top,V_bottom=V_bottom,nu=1e10,\n",
    "                              n_bottom=n_bottom,u_z_bottom=lambda r,t : 1e5,\n",
    "                              save_dir='100x100_1e-4')"
   ]
  },
  {
   "cell_type": "code",
   "execution_count": null,
   "id": "f8d63752-1097-4c08-a6e2-d8e02133b45c",
   "metadata": {},
   "outputs": [],
   "source": [
    "p.n"
   ]
  },
  {
   "cell_type": "code",
   "execution_count": null,
   "id": "47e6b859-fc4d-418c-a8cf-b4242ce83de3",
   "metadata": {},
   "outputs": [],
   "source": []
  },
  {
   "cell_type": "code",
   "execution_count": null,
   "id": "379c34e9",
   "metadata": {},
   "outputs": [],
   "source": [
    "p.sor(sp_r=0.97,iterations=1000000,EPS=1e-13)"
   ]
  },
  {
   "cell_type": "code",
   "execution_count": null,
   "id": "22efd4a3-c1e3-48e9-a7ae-131bb3e6867a",
   "metadata": {},
   "outputs": [],
   "source": []
  },
  {
   "cell_type": "code",
   "execution_count": null,
   "id": "873dec5f-5c6b-4376-874c-6c66e2fe07fa",
   "metadata": {},
   "outputs": [],
   "source": []
  },
  {
   "cell_type": "code",
   "execution_count": null,
   "id": "6f1ac8cb",
   "metadata": {},
   "outputs": [],
   "source": [
    "for _ in range(1000):\n",
    "    p.step(method='Fluid',smooth=True,smooth_sigma=1/2,save_every=1,substeps=2,resolve_pot_every=1)"
   ]
  },
  {
   "cell_type": "code",
   "execution_count": null,
   "id": "2c1197cf-5207-46bb-a960-ed9026bc8322",
   "metadata": {},
   "outputs": [],
   "source": [
    "p.n_surface_plot()"
   ]
  },
  {
   "cell_type": "code",
   "execution_count": null,
   "id": "286aca2c-0436-4cd4-90b6-8d365586115a",
   "metadata": {},
   "outputs": [],
   "source": []
  }
 ],
 "metadata": {
  "kernelspec": {
   "display_name": "Python 3 (ipykernel)",
   "language": "python",
   "name": "python3"
  },
  "language_info": {
   "codemirror_mode": {
    "name": "ipython",
    "version": 3
   },
   "file_extension": ".py",
   "mimetype": "text/x-python",
   "name": "python",
   "nbconvert_exporter": "python",
   "pygments_lexer": "ipython3",
   "version": "3.8.17"
  }
 },
 "nbformat": 4,
 "nbformat_minor": 5
}
